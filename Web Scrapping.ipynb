{
 "cells": [
  {
   "cell_type": "code",
   "execution_count": 1,
   "id": "68387d2f-13fe-4340-a0be-b078c87d7b03",
   "metadata": {},
   "outputs": [],
   "source": [
    "#Web sceaping"
   ]
  },
  {
   "cell_type": "code",
   "execution_count": 22,
   "id": "bc77bb88-8fe7-4736-bc69-bfa6bc5f0400",
   "metadata": {},
   "outputs": [],
   "source": [
    "import requests\n",
    "from bs4 import BeautifulSoup as bs\n",
    "from urllib.request import urlopen \n",
    "import logging"
   ]
  },
  {
   "cell_type": "code",
   "execution_count": 20,
   "id": "68b8b7ab-901e-40ea-9b55-5c52269495dc",
   "metadata": {},
   "outputs": [],
   "source": [
    "flipkart_url=\"https://www.flipkart.com/search?q=\"+\"iphone13pro\""
   ]
  },
  {
   "cell_type": "code",
   "execution_count": 6,
   "id": "5711f30d-6489-48b4-aee6-e62b53752b94",
   "metadata": {},
   "outputs": [
    {
     "data": {
      "text/plain": [
       "'https://www.flipkart.com/search?q=iphone13pro'"
      ]
     },
     "execution_count": 6,
     "metadata": {},
     "output_type": "execute_result"
    }
   ],
   "source": [
    "flipkart_url"
   ]
  },
  {
   "cell_type": "code",
   "execution_count": 23,
   "id": "65653217-76bb-4b44-aa02-373f921896b3",
   "metadata": {},
   "outputs": [],
   "source": [
    "urlclient=urlopen(flipkart_url)"
   ]
  },
  {
   "cell_type": "code",
   "execution_count": 24,
   "id": "0f8146c4-2a6e-4318-9b11-f3929adab34d",
   "metadata": {},
   "outputs": [],
   "source": [
    "flipkart_page=urlclient.read()"
   ]
  },
  {
   "cell_type": "code",
   "execution_count": 26,
   "id": "fd375fd4-62b1-472a-84b1-f2d0a8a4bdc8",
   "metadata": {},
   "outputs": [],
   "source": [
    "flipkart_html=bs(flipkart_page,'html.parser')"
   ]
  },
  {
   "cell_type": "code",
   "execution_count": 28,
   "id": "9ac4cfb2-9f99-4f93-ba6a-21386f0f5b29",
   "metadata": {},
   "outputs": [
    {
     "data": {
      "text/plain": [
       "'https://www.flipkart.com/apple-iphone-13-pro-gold-512-gb/p/itm837d2a477d50f?pid=MOBG6VF5F5CYZHTV&lid=LSTMOBG6VF5F5CYZHTVXBQYBO&marketplace=FLIPKART&q=iphone13pro&store=tyy%2F4io&srno=s_1_2&otracker=search&iid=dd9acb8b-6f52-46a5-b416-6c2aefd63295.MOBG6VF5F5CYZHTV.SEARCH&ssid=gyazb488mo0000001677774439798&qH=43c39800153648da'"
      ]
     },
     "execution_count": 28,
     "metadata": {},
     "output_type": "execute_result"
    }
   ],
   "source": [
    "\"https://www.flipkart.com/\"+\"apple-iphone-13-pro-gold-512-gb/p/itm837d2a477d50f?pid=MOBG6VF5F5CYZHTV&lid=LSTMOBG6VF5F5CYZHTVXBQYBO&marketplace=FLIPKART&q=iphone13pro&store=tyy%2F4io&srno=s_1_2&otracker=search&iid=dd9acb8b-6f52-46a5-b416-6c2aefd63295.MOBG6VF5F5CYZHTV.SEARCH&ssid=gyazb488mo0000001677774439798&qH=43c39800153648da\""
   ]
  },
  {
   "cell_type": "code",
   "execution_count": 29,
   "id": "aea7d5c5-ec94-48a5-b919-d2ed8d7a5a98",
   "metadata": {},
   "outputs": [],
   "source": [
    "#Automatically"
   ]
  },
  {
   "cell_type": "code",
   "execution_count": 33,
   "id": "a1c8fe9a-24cb-469d-9b59-f81ed5579587",
   "metadata": {},
   "outputs": [],
   "source": [
    "bigbox=flipkart_html.findAll(\"div\",{\"class\":\"_1AtVbE col-12-12\"})"
   ]
  },
  {
   "cell_type": "code",
   "execution_count": 34,
   "id": "bcb29938-2a45-49a8-a549-fb681dd745b4",
   "metadata": {},
   "outputs": [
    {
     "data": {
      "text/plain": [
       "30"
      ]
     },
     "execution_count": 34,
     "metadata": {},
     "output_type": "execute_result"
    }
   ],
   "source": [
    "len(bigbox)"
   ]
  },
  {
   "cell_type": "code",
   "execution_count": 37,
   "id": "4e45b984-cf4c-4910-afa6-8a476894c5b5",
   "metadata": {},
   "outputs": [
    {
     "ename": "SyntaxError",
     "evalue": "invalid syntax (3634707171.py, line 1)",
     "output_type": "error",
     "traceback": [
      "\u001b[0;36m  Cell \u001b[0;32mIn[37], line 1\u001b[0;36m\u001b[0m\n\u001b[0;31m    del.bigbox[0:3]\u001b[0m\n\u001b[0m       ^\u001b[0m\n\u001b[0;31mSyntaxError\u001b[0m\u001b[0;31m:\u001b[0m invalid syntax\n"
     ]
    }
   ],
   "source": [
    "del.bigbox[0:3]"
   ]
  },
  {
   "cell_type": "code",
   "execution_count": 38,
   "id": "1bc586d8-a7d3-459d-946e-2874562afaa2",
   "metadata": {},
   "outputs": [
    {
     "data": {
      "text/plain": [
       "'https://www.flipkart.com/apple-iphone-13-pro-gold-512-gb/p/itm837d2a477d50f?pid=MOBG6VF5F5CYZHTV&lid=LSTMOBG6VF5F5CYZHTVXBQYBO&marketplace=FLIPKART&q=iphone13pro&store=tyy%2F4io&srno=s_1_2&otracker=search&fm=organic&iid=d3834560-c62f-4fad-974d-7361ecf83481.MOBG6VF5F5CYZHTV.SEARCH&ppt=None&ppn=None&ssid=5kti0l079c0000001677774806120&qH=43c39800153648da'"
      ]
     },
     "execution_count": 38,
     "metadata": {},
     "output_type": "execute_result"
    }
   ],
   "source": [
    "\"https://www.flipkart.com\"+bigbox[3].div.div.div.a[\"href\"]"
   ]
  },
  {
   "cell_type": "code",
   "execution_count": 39,
   "id": "ea705286-4d5a-4587-8019-d5c6d60230ee",
   "metadata": {},
   "outputs": [],
   "source": [
    "#for multiple"
   ]
  },
  {
   "cell_type": "code",
   "execution_count": 42,
   "id": "b596dd34-656d-428d-8002-8dbc435df7af",
   "metadata": {},
   "outputs": [
    {
     "name": "stdout",
     "output_type": "stream",
     "text": [
      "https://www.flipkart.com/apple-iphone-13-pro-gold-512-gb/p/itm837d2a477d50f?pid=MOBG6VF5F5CYZHTV&lid=LSTMOBG6VF5F5CYZHTVXBQYBO&marketplace=FLIPKART&q=iphone13pro&store=tyy%2F4io&srno=s_1_2&otracker=search&fm=organic&iid=d3834560-c62f-4fad-974d-7361ecf83481.MOBG6VF5F5CYZHTV.SEARCH&ppt=None&ppn=None&ssid=5kti0l079c0000001677774806120&qH=43c39800153648da\n",
      "https://www.flipkart.com/apple-iphone-13-pro-gold-512-gb/p/itm837d2a477d50f?pid=MOBG6VF5F5CYZHTV&lid=LSTMOBG6VF5F5CYZHTVXBQYBO&marketplace=FLIPKART&q=iphone13pro&store=tyy%2F4io&srno=s_1_2&otracker=search&fm=organic&iid=d3834560-c62f-4fad-974d-7361ecf83481.MOBG6VF5F5CYZHTV.SEARCH&ppt=None&ppn=None&ssid=5kti0l079c0000001677774806120&qH=43c39800153648da\n",
      "https://www.flipkart.com/apple-iphone-13-pro-gold-512-gb/p/itm837d2a477d50f?pid=MOBG6VF5F5CYZHTV&lid=LSTMOBG6VF5F5CYZHTVXBQYBO&marketplace=FLIPKART&q=iphone13pro&store=tyy%2F4io&srno=s_1_2&otracker=search&fm=organic&iid=d3834560-c62f-4fad-974d-7361ecf83481.MOBG6VF5F5CYZHTV.SEARCH&ppt=None&ppn=None&ssid=5kti0l079c0000001677774806120&qH=43c39800153648da\n",
      "https://www.flipkart.com/apple-iphone-13-pro-gold-512-gb/p/itm837d2a477d50f?pid=MOBG6VF5F5CYZHTV&lid=LSTMOBG6VF5F5CYZHTVXBQYBO&marketplace=FLIPKART&q=iphone13pro&store=tyy%2F4io&srno=s_1_2&otracker=search&fm=organic&iid=d3834560-c62f-4fad-974d-7361ecf83481.MOBG6VF5F5CYZHTV.SEARCH&ppt=None&ppn=None&ssid=5kti0l079c0000001677774806120&qH=43c39800153648da\n",
      "https://www.flipkart.com/apple-iphone-13-pro-gold-512-gb/p/itm837d2a477d50f?pid=MOBG6VF5F5CYZHTV&lid=LSTMOBG6VF5F5CYZHTVXBQYBO&marketplace=FLIPKART&q=iphone13pro&store=tyy%2F4io&srno=s_1_2&otracker=search&fm=organic&iid=d3834560-c62f-4fad-974d-7361ecf83481.MOBG6VF5F5CYZHTV.SEARCH&ppt=None&ppn=None&ssid=5kti0l079c0000001677774806120&qH=43c39800153648da\n",
      "https://www.flipkart.com/apple-iphone-13-pro-gold-512-gb/p/itm837d2a477d50f?pid=MOBG6VF5F5CYZHTV&lid=LSTMOBG6VF5F5CYZHTVXBQYBO&marketplace=FLIPKART&q=iphone13pro&store=tyy%2F4io&srno=s_1_2&otracker=search&fm=organic&iid=d3834560-c62f-4fad-974d-7361ecf83481.MOBG6VF5F5CYZHTV.SEARCH&ppt=None&ppn=None&ssid=5kti0l079c0000001677774806120&qH=43c39800153648da\n",
      "https://www.flipkart.com/apple-iphone-13-pro-gold-512-gb/p/itm837d2a477d50f?pid=MOBG6VF5F5CYZHTV&lid=LSTMOBG6VF5F5CYZHTVXBQYBO&marketplace=FLIPKART&q=iphone13pro&store=tyy%2F4io&srno=s_1_2&otracker=search&fm=organic&iid=d3834560-c62f-4fad-974d-7361ecf83481.MOBG6VF5F5CYZHTV.SEARCH&ppt=None&ppn=None&ssid=5kti0l079c0000001677774806120&qH=43c39800153648da\n",
      "https://www.flipkart.com/apple-iphone-13-pro-gold-512-gb/p/itm837d2a477d50f?pid=MOBG6VF5F5CYZHTV&lid=LSTMOBG6VF5F5CYZHTVXBQYBO&marketplace=FLIPKART&q=iphone13pro&store=tyy%2F4io&srno=s_1_2&otracker=search&fm=organic&iid=d3834560-c62f-4fad-974d-7361ecf83481.MOBG6VF5F5CYZHTV.SEARCH&ppt=None&ppn=None&ssid=5kti0l079c0000001677774806120&qH=43c39800153648da\n",
      "https://www.flipkart.com/apple-iphone-13-pro-gold-512-gb/p/itm837d2a477d50f?pid=MOBG6VF5F5CYZHTV&lid=LSTMOBG6VF5F5CYZHTVXBQYBO&marketplace=FLIPKART&q=iphone13pro&store=tyy%2F4io&srno=s_1_2&otracker=search&fm=organic&iid=d3834560-c62f-4fad-974d-7361ecf83481.MOBG6VF5F5CYZHTV.SEARCH&ppt=None&ppn=None&ssid=5kti0l079c0000001677774806120&qH=43c39800153648da\n",
      "https://www.flipkart.com/apple-iphone-13-pro-gold-512-gb/p/itm837d2a477d50f?pid=MOBG6VF5F5CYZHTV&lid=LSTMOBG6VF5F5CYZHTVXBQYBO&marketplace=FLIPKART&q=iphone13pro&store=tyy%2F4io&srno=s_1_2&otracker=search&fm=organic&iid=d3834560-c62f-4fad-974d-7361ecf83481.MOBG6VF5F5CYZHTV.SEARCH&ppt=None&ppn=None&ssid=5kti0l079c0000001677774806120&qH=43c39800153648da\n",
      "https://www.flipkart.com/apple-iphone-13-pro-gold-512-gb/p/itm837d2a477d50f?pid=MOBG6VF5F5CYZHTV&lid=LSTMOBG6VF5F5CYZHTVXBQYBO&marketplace=FLIPKART&q=iphone13pro&store=tyy%2F4io&srno=s_1_2&otracker=search&fm=organic&iid=d3834560-c62f-4fad-974d-7361ecf83481.MOBG6VF5F5CYZHTV.SEARCH&ppt=None&ppn=None&ssid=5kti0l079c0000001677774806120&qH=43c39800153648da\n",
      "https://www.flipkart.com/apple-iphone-13-pro-gold-512-gb/p/itm837d2a477d50f?pid=MOBG6VF5F5CYZHTV&lid=LSTMOBG6VF5F5CYZHTVXBQYBO&marketplace=FLIPKART&q=iphone13pro&store=tyy%2F4io&srno=s_1_2&otracker=search&fm=organic&iid=d3834560-c62f-4fad-974d-7361ecf83481.MOBG6VF5F5CYZHTV.SEARCH&ppt=None&ppn=None&ssid=5kti0l079c0000001677774806120&qH=43c39800153648da\n",
      "https://www.flipkart.com/apple-iphone-13-pro-gold-512-gb/p/itm837d2a477d50f?pid=MOBG6VF5F5CYZHTV&lid=LSTMOBG6VF5F5CYZHTVXBQYBO&marketplace=FLIPKART&q=iphone13pro&store=tyy%2F4io&srno=s_1_2&otracker=search&fm=organic&iid=d3834560-c62f-4fad-974d-7361ecf83481.MOBG6VF5F5CYZHTV.SEARCH&ppt=None&ppn=None&ssid=5kti0l079c0000001677774806120&qH=43c39800153648da\n",
      "https://www.flipkart.com/apple-iphone-13-pro-gold-512-gb/p/itm837d2a477d50f?pid=MOBG6VF5F5CYZHTV&lid=LSTMOBG6VF5F5CYZHTVXBQYBO&marketplace=FLIPKART&q=iphone13pro&store=tyy%2F4io&srno=s_1_2&otracker=search&fm=organic&iid=d3834560-c62f-4fad-974d-7361ecf83481.MOBG6VF5F5CYZHTV.SEARCH&ppt=None&ppn=None&ssid=5kti0l079c0000001677774806120&qH=43c39800153648da\n",
      "https://www.flipkart.com/apple-iphone-13-pro-gold-512-gb/p/itm837d2a477d50f?pid=MOBG6VF5F5CYZHTV&lid=LSTMOBG6VF5F5CYZHTVXBQYBO&marketplace=FLIPKART&q=iphone13pro&store=tyy%2F4io&srno=s_1_2&otracker=search&fm=organic&iid=d3834560-c62f-4fad-974d-7361ecf83481.MOBG6VF5F5CYZHTV.SEARCH&ppt=None&ppn=None&ssid=5kti0l079c0000001677774806120&qH=43c39800153648da\n",
      "https://www.flipkart.com/apple-iphone-13-pro-gold-512-gb/p/itm837d2a477d50f?pid=MOBG6VF5F5CYZHTV&lid=LSTMOBG6VF5F5CYZHTVXBQYBO&marketplace=FLIPKART&q=iphone13pro&store=tyy%2F4io&srno=s_1_2&otracker=search&fm=organic&iid=d3834560-c62f-4fad-974d-7361ecf83481.MOBG6VF5F5CYZHTV.SEARCH&ppt=None&ppn=None&ssid=5kti0l079c0000001677774806120&qH=43c39800153648da\n",
      "https://www.flipkart.com/apple-iphone-13-pro-gold-512-gb/p/itm837d2a477d50f?pid=MOBG6VF5F5CYZHTV&lid=LSTMOBG6VF5F5CYZHTVXBQYBO&marketplace=FLIPKART&q=iphone13pro&store=tyy%2F4io&srno=s_1_2&otracker=search&fm=organic&iid=d3834560-c62f-4fad-974d-7361ecf83481.MOBG6VF5F5CYZHTV.SEARCH&ppt=None&ppn=None&ssid=5kti0l079c0000001677774806120&qH=43c39800153648da\n",
      "https://www.flipkart.com/apple-iphone-13-pro-gold-512-gb/p/itm837d2a477d50f?pid=MOBG6VF5F5CYZHTV&lid=LSTMOBG6VF5F5CYZHTVXBQYBO&marketplace=FLIPKART&q=iphone13pro&store=tyy%2F4io&srno=s_1_2&otracker=search&fm=organic&iid=d3834560-c62f-4fad-974d-7361ecf83481.MOBG6VF5F5CYZHTV.SEARCH&ppt=None&ppn=None&ssid=5kti0l079c0000001677774806120&qH=43c39800153648da\n",
      "https://www.flipkart.com/apple-iphone-13-pro-gold-512-gb/p/itm837d2a477d50f?pid=MOBG6VF5F5CYZHTV&lid=LSTMOBG6VF5F5CYZHTVXBQYBO&marketplace=FLIPKART&q=iphone13pro&store=tyy%2F4io&srno=s_1_2&otracker=search&fm=organic&iid=d3834560-c62f-4fad-974d-7361ecf83481.MOBG6VF5F5CYZHTV.SEARCH&ppt=None&ppn=None&ssid=5kti0l079c0000001677774806120&qH=43c39800153648da\n",
      "https://www.flipkart.com/apple-iphone-13-pro-gold-512-gb/p/itm837d2a477d50f?pid=MOBG6VF5F5CYZHTV&lid=LSTMOBG6VF5F5CYZHTVXBQYBO&marketplace=FLIPKART&q=iphone13pro&store=tyy%2F4io&srno=s_1_2&otracker=search&fm=organic&iid=d3834560-c62f-4fad-974d-7361ecf83481.MOBG6VF5F5CYZHTV.SEARCH&ppt=None&ppn=None&ssid=5kti0l079c0000001677774806120&qH=43c39800153648da\n",
      "https://www.flipkart.com/apple-iphone-13-pro-gold-512-gb/p/itm837d2a477d50f?pid=MOBG6VF5F5CYZHTV&lid=LSTMOBG6VF5F5CYZHTVXBQYBO&marketplace=FLIPKART&q=iphone13pro&store=tyy%2F4io&srno=s_1_2&otracker=search&fm=organic&iid=d3834560-c62f-4fad-974d-7361ecf83481.MOBG6VF5F5CYZHTV.SEARCH&ppt=None&ppn=None&ssid=5kti0l079c0000001677774806120&qH=43c39800153648da\n",
      "https://www.flipkart.com/apple-iphone-13-pro-gold-512-gb/p/itm837d2a477d50f?pid=MOBG6VF5F5CYZHTV&lid=LSTMOBG6VF5F5CYZHTVXBQYBO&marketplace=FLIPKART&q=iphone13pro&store=tyy%2F4io&srno=s_1_2&otracker=search&fm=organic&iid=d3834560-c62f-4fad-974d-7361ecf83481.MOBG6VF5F5CYZHTV.SEARCH&ppt=None&ppn=None&ssid=5kti0l079c0000001677774806120&qH=43c39800153648da\n",
      "https://www.flipkart.com/apple-iphone-13-pro-gold-512-gb/p/itm837d2a477d50f?pid=MOBG6VF5F5CYZHTV&lid=LSTMOBG6VF5F5CYZHTVXBQYBO&marketplace=FLIPKART&q=iphone13pro&store=tyy%2F4io&srno=s_1_2&otracker=search&fm=organic&iid=d3834560-c62f-4fad-974d-7361ecf83481.MOBG6VF5F5CYZHTV.SEARCH&ppt=None&ppn=None&ssid=5kti0l079c0000001677774806120&qH=43c39800153648da\n",
      "https://www.flipkart.com/apple-iphone-13-pro-gold-512-gb/p/itm837d2a477d50f?pid=MOBG6VF5F5CYZHTV&lid=LSTMOBG6VF5F5CYZHTVXBQYBO&marketplace=FLIPKART&q=iphone13pro&store=tyy%2F4io&srno=s_1_2&otracker=search&fm=organic&iid=d3834560-c62f-4fad-974d-7361ecf83481.MOBG6VF5F5CYZHTV.SEARCH&ppt=None&ppn=None&ssid=5kti0l079c0000001677774806120&qH=43c39800153648da\n",
      "https://www.flipkart.com/apple-iphone-13-pro-gold-512-gb/p/itm837d2a477d50f?pid=MOBG6VF5F5CYZHTV&lid=LSTMOBG6VF5F5CYZHTVXBQYBO&marketplace=FLIPKART&q=iphone13pro&store=tyy%2F4io&srno=s_1_2&otracker=search&fm=organic&iid=d3834560-c62f-4fad-974d-7361ecf83481.MOBG6VF5F5CYZHTV.SEARCH&ppt=None&ppn=None&ssid=5kti0l079c0000001677774806120&qH=43c39800153648da\n",
      "https://www.flipkart.com/apple-iphone-13-pro-gold-512-gb/p/itm837d2a477d50f?pid=MOBG6VF5F5CYZHTV&lid=LSTMOBG6VF5F5CYZHTVXBQYBO&marketplace=FLIPKART&q=iphone13pro&store=tyy%2F4io&srno=s_1_2&otracker=search&fm=organic&iid=d3834560-c62f-4fad-974d-7361ecf83481.MOBG6VF5F5CYZHTV.SEARCH&ppt=None&ppn=None&ssid=5kti0l079c0000001677774806120&qH=43c39800153648da\n",
      "https://www.flipkart.com/apple-iphone-13-pro-gold-512-gb/p/itm837d2a477d50f?pid=MOBG6VF5F5CYZHTV&lid=LSTMOBG6VF5F5CYZHTVXBQYBO&marketplace=FLIPKART&q=iphone13pro&store=tyy%2F4io&srno=s_1_2&otracker=search&fm=organic&iid=d3834560-c62f-4fad-974d-7361ecf83481.MOBG6VF5F5CYZHTV.SEARCH&ppt=None&ppn=None&ssid=5kti0l079c0000001677774806120&qH=43c39800153648da\n",
      "https://www.flipkart.com/apple-iphone-13-pro-gold-512-gb/p/itm837d2a477d50f?pid=MOBG6VF5F5CYZHTV&lid=LSTMOBG6VF5F5CYZHTVXBQYBO&marketplace=FLIPKART&q=iphone13pro&store=tyy%2F4io&srno=s_1_2&otracker=search&fm=organic&iid=d3834560-c62f-4fad-974d-7361ecf83481.MOBG6VF5F5CYZHTV.SEARCH&ppt=None&ppn=None&ssid=5kti0l079c0000001677774806120&qH=43c39800153648da\n",
      "https://www.flipkart.com/apple-iphone-13-pro-gold-512-gb/p/itm837d2a477d50f?pid=MOBG6VF5F5CYZHTV&lid=LSTMOBG6VF5F5CYZHTVXBQYBO&marketplace=FLIPKART&q=iphone13pro&store=tyy%2F4io&srno=s_1_2&otracker=search&fm=organic&iid=d3834560-c62f-4fad-974d-7361ecf83481.MOBG6VF5F5CYZHTV.SEARCH&ppt=None&ppn=None&ssid=5kti0l079c0000001677774806120&qH=43c39800153648da\n",
      "https://www.flipkart.com/apple-iphone-13-pro-gold-512-gb/p/itm837d2a477d50f?pid=MOBG6VF5F5CYZHTV&lid=LSTMOBG6VF5F5CYZHTVXBQYBO&marketplace=FLIPKART&q=iphone13pro&store=tyy%2F4io&srno=s_1_2&otracker=search&fm=organic&iid=d3834560-c62f-4fad-974d-7361ecf83481.MOBG6VF5F5CYZHTV.SEARCH&ppt=None&ppn=None&ssid=5kti0l079c0000001677774806120&qH=43c39800153648da\n"
     ]
    }
   ],
   "source": [
    "for i in bigbox:\n",
    "    print(\"https://www.flipkart.com\"+bigbox[3].div.div.div.a[\"href\"])"
   ]
  },
  {
   "cell_type": "code",
   "execution_count": null,
   "id": "8c4c3ff0-d3c1-4fcf-a3fc-967c81889eb1",
   "metadata": {},
   "outputs": [],
   "source": []
  }
 ],
 "metadata": {
  "kernelspec": {
   "display_name": "Python 3 (ipykernel)",
   "language": "python",
   "name": "python3"
  },
  "language_info": {
   "codemirror_mode": {
    "name": "ipython",
    "version": 3
   },
   "file_extension": ".py",
   "mimetype": "text/x-python",
   "name": "python",
   "nbconvert_exporter": "python",
   "pygments_lexer": "ipython3",
   "version": "3.10.8"
  }
 },
 "nbformat": 4,
 "nbformat_minor": 5
}
